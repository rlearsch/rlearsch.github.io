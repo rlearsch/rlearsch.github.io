{
 "cells": [
  {
   "cell_type": "code",
   "execution_count": 1,
   "id": "5d280c24-a46d-44d9-a44e-61cae671cf21",
   "metadata": {},
   "outputs": [],
   "source": [
    "from tdc.benchmark_group import admet_group\n",
    "from rdkit import Chem \n",
    "import pandas as pd\n",
    "import numpy as np\n",
    "from tqdm import tqdm\n",
    "from rdkit.ML.Descriptors.MoleculeDescriptors import MolecularDescriptorCalculator\n",
    "\n",
    "from tdc.single_pred import ADME\n",
    "from rdkit.Chem import AllChem\n",
    "from rdkit.Chem import DataStructs\n",
    "from rdkit.Chem import Descriptors\n",
    "from rdkit import RDLogger\n",
    "RDLogger.DisableLog('rdApp.*')"
   ]
  },
  {
   "cell_type": "code",
   "execution_count": 2,
   "id": "f26cd8f1-69d4-4866-8e57-f1e1e71c278f",
   "metadata": {},
   "outputs": [],
   "source": [
    "from sklearn.preprocessing import QuantileTransformer\n",
    "from sklearn.ensemble import GradientBoostingRegressor"
   ]
  },
  {
   "cell_type": "markdown",
   "id": "c7cb8576-3b58-4df6-bcfe-1444186bea05",
   "metadata": {},
   "source": [
    "### Copying submission method from MapLight \n",
    "\n",
    "https://github.com/maplightrx/MapLight-TDC/blob/main/submission.ipynb"
   ]
  },
  {
   "cell_type": "code",
   "execution_count": 3,
   "id": "678808f5-f5bb-48b3-b228-2a6066c9e006",
   "metadata": {},
   "outputs": [],
   "source": [
    "benchmark_config = {\n",
    "    'ppbr_az': ('regression', False),\n",
    "}"
   ]
  },
  {
   "cell_type": "code",
   "execution_count": 4,
   "id": "9a0aea33-718b-4759-99de-bf49f9531cf7",
   "metadata": {},
   "outputs": [
    {
     "name": "stderr",
     "output_type": "stream",
     "text": [
      "Found local copy...\n",
      "100%|██████████████████████████████████████████████████████████████████████████████████████████████████████████████| 5/5 [10:39<00:00, 127.91s/it]"
     ]
    },
    {
     "name": "stdout",
     "output_type": "stream",
     "text": [
      "\n",
      "\n",
      "{'ppbr_az': [7.441, 0.024]}\n"
     ]
    },
    {
     "name": "stderr",
     "output_type": "stream",
     "text": [
      "\n"
     ]
    }
   ],
   "source": [
    "group = admet_group(path = 'data/')\n",
    "\n",
    "for admet_benchmark in [list(benchmark_config.keys())[0]]:\n",
    "    predictions_list = []\n",
    "    for seed in tqdm([1, 2, 3, 4, 5]):  \n",
    "        benchmark = group.get(admet_benchmark)\n",
    "        predictions = {}\n",
    "        name = benchmark['name']\n",
    "        training, test = benchmark['train_val'], benchmark['test']\n",
    "        test['mol'] = test['Drug'].apply(lambda x: Chem.MolFromSmiles(x)) \n",
    "        training['mol'] = training['Drug'].apply(lambda x: Chem.MolFromSmiles(x)) \n",
    "    \n",
    "        radius=1\n",
    "        fingerprints = [AllChem.GetMorganFingerprintAsBitVect(mol, radius, nBits=2048) for mol in training['mol']]\n",
    "        test_fingerprints = [AllChem.GetMorganFingerprintAsBitVect(mol, radius, nBits=2048) for mol in test['mol']]\n",
    "            \n",
    "        num_molecules = len(fingerprints)\n",
    "        num_test_molecules = len(test_fingerprints)\n",
    "        similarity_matrix = np.zeros((num_molecules, num_molecules))\n",
    "        test_similarity_matrix = np.zeros((num_test_molecules, num_molecules))\n",
    "    \n",
    "        for i in range(num_molecules):\n",
    "            for j in range(i, num_molecules):\n",
    "                similarity = DataStructs.TanimotoSimilarity(fingerprints[i], fingerprints[j])\n",
    "                similarity_matrix[i, j] = similarity\n",
    "                similarity_matrix[j, i] = similarity  # Symmetric matrix\n",
    "        \n",
    "        for i in range(num_test_molecules):\n",
    "            for j in range(0, num_molecules):\n",
    "                similarity = DataStructs.TanimotoSimilarity(test_fingerprints[i], fingerprints[j])\n",
    "                test_similarity_matrix[i, j] = similarity\n",
    "    \n",
    "        X_train, X_test = similarity_matrix, test_similarity_matrix\n",
    "    \n",
    "        X_train_chem = np.array(pd.DataFrame([Descriptors.CalcMolDescriptors(x) for x in training['mol']]))\n",
    "        X_test_chem = np.array(pd.DataFrame([Descriptors.CalcMolDescriptors(x) for x in test['mol']]))\n",
    "        \n",
    "        X_train = np.concatenate((X_train, X_train_chem), axis=1)\n",
    "        X_test = np.concatenate((X_test, X_test_chem), axis=1)\n",
    "\n",
    "        qt = QuantileTransformer(\n",
    "            random_state=seed,\n",
    "            output_distribution='normal',\n",
    "                    )\n",
    "        y_train, y_test = training['Y'].to_frame(), test['Y'].to_frame()\n",
    "        y_train = qt.fit_transform(y_train)\n",
    "        y_test = qt.transform(y_test)\n",
    "        \n",
    "        scaler = QuantileTransformer(\n",
    "                random_state=seed,\n",
    "                output_distribution='normal',\n",
    "\n",
    "                )\n",
    "        X_train = scaler.fit_transform(X_train)\n",
    "        X_test = scaler.transform(X_test)\n",
    "        regr = GradientBoostingRegressor(\n",
    "            random_state=seed, \n",
    "            )\n",
    "        regr.fit(X_train, y_train)\n",
    "        y_pred = regr.predict(X_test).reshape(-1,1)\n",
    "        y_pred_test = qt.inverse_transform(y_pred).reshape(-1)\n",
    "\n",
    "    # --------------------------------------------- #\n",
    "        prediction_dict = {name: y_pred_test}\n",
    "        predictions_list.append(prediction_dict)\n",
    "    results = group.evaluate_many(predictions_list)\n",
    "    print('\\n\\n{}'.format(results))"
   ]
  }
 ],
 "metadata": {
  "kernelspec": {
   "display_name": "Python 3 (ipykernel)",
   "language": "python",
   "name": "python3"
  },
  "language_info": {
   "codemirror_mode": {
    "name": "ipython",
    "version": 3
   },
   "file_extension": ".py",
   "mimetype": "text/x-python",
   "name": "python",
   "nbconvert_exporter": "python",
   "pygments_lexer": "ipython3",
   "version": "3.10.12"
  }
 },
 "nbformat": 4,
 "nbformat_minor": 5
}
